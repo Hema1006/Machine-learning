{
 "cells": [
  {
   "cell_type": "markdown",
   "id": "61f95e60",
   "metadata": {},
   "source": [
    "# Import necessary libraries\n"
   ]
  },
  {
   "cell_type": "code",
   "execution_count": 79,
   "id": "7450bd5a",
   "metadata": {},
   "outputs": [],
   "source": [
    "import pandas as pd  \n",
    "import numpy as np  \n",
    "from sklearn.model_selection import train_test_split  \n",
    "from sklearn.ensemble import RandomForestClassifier  \n",
    "from sklearn.metrics import classification_report, accuracy_score, confusion_matrix  \n",
    "import seaborn as sns  \n",
    "import matplotlib.pyplot as plt  \n"
   ]
  },
  {
   "cell_type": "markdown",
   "id": "4677d36e",
   "metadata": {},
   "source": [
    "# Load the dataset\n"
   ]
  },
  {
   "cell_type": "code",
   "execution_count": 80,
   "id": "cd947434",
   "metadata": {},
   "outputs": [
    {
     "name": "stdout",
     "output_type": "stream",
     "text": [
      "   employee_id         department     region  education gender  \\\n",
      "0         8724         Technology  region_26  Bachelors      m   \n",
      "1        74430                 HR   region_4  Bachelors      f   \n",
      "2        72255  Sales & Marketing  region_13  Bachelors      m   \n",
      "3        38562        Procurement   region_2  Bachelors      f   \n",
      "4        64486            Finance  region_29  Bachelors      m   \n",
      "\n",
      "  recruitment_channel  no_of_trainings  age  previous_year_rating  \\\n",
      "0            sourcing                1   24                   NaN   \n",
      "1               other                1   31                   3.0   \n",
      "2               other                1   31                   1.0   \n",
      "3               other                3   31                   2.0   \n",
      "4            sourcing                1   30                   4.0   \n",
      "\n",
      "   length_of_service  KPIs_met_more_than_80  awards_won  avg_training_score  \n",
      "0                  1                      1           0                  77  \n",
      "1                  5                      0           0                  51  \n",
      "2                  4                      0           0                  47  \n",
      "3                  9                      0           0                  65  \n",
      "4                  7                      0           0                  61  \n"
     ]
    }
   ],
   "source": [
    "data = pd.read_csv(\"employees_dataset.csv\")\n",
    "print(data.head())\n"
   ]
  },
  {
   "cell_type": "code",
   "execution_count": 81,
   "id": "b2bdf30d",
   "metadata": {},
   "outputs": [
    {
     "data": {
      "text/plain": [
       "Index(['employee_id', 'department', 'region', 'education', 'gender',\n",
       "       'recruitment_channel', 'no_of_trainings', 'age', 'previous_year_rating',\n",
       "       'length_of_service', 'KPIs_met_more_than_80', 'awards_won',\n",
       "       'avg_training_score'],\n",
       "      dtype='object')"
      ]
     },
     "execution_count": 81,
     "metadata": {},
     "output_type": "execute_result"
    }
   ],
   "source": [
    "data.columns"
   ]
  },
  {
   "cell_type": "markdown",
   "id": "ff282b33",
   "metadata": {},
   "source": [
    "# Defining target variable"
   ]
  },
  {
   "cell_type": "code",
   "execution_count": 82,
   "id": "f53cc4af",
   "metadata": {},
   "outputs": [],
   "source": [
    "# Strip extra spaces from column names\n",
    "data.columns = data.columns.str.strip()\n",
    "\n",
    "\n",
    "data['Target'] = (data['KPIs_met_more_than_80'] > 0).astype(int)\n",
    "\n",
    "data.drop(['employee_id','KPIs_met_more_than_80'], axis=1, inplace=True)\n"
   ]
  },
  {
   "cell_type": "markdown",
   "id": "c2fcd714",
   "metadata": {},
   "source": [
    "# Encode Categorical Features"
   ]
  },
  {
   "cell_type": "code",
   "execution_count": 83,
   "id": "7617e927",
   "metadata": {},
   "outputs": [],
   "source": [
    "columns_to_encode = ['gender', 'department', 'education', 'recruitment_channel','region']\n",
    "existing_columns = [col for col in columns_to_encode if col in data.columns]\n",
    "data = pd.get_dummies(data, columns=existing_columns, drop_first=True)\n"
   ]
  },
  {
   "cell_type": "markdown",
   "id": "2cd36cb3",
   "metadata": {},
   "source": [
    "# Handling missing values"
   ]
  },
  {
   "cell_type": "code",
   "execution_count": 84,
   "id": "db7c2786",
   "metadata": {},
   "outputs": [
    {
     "name": "stdout",
     "output_type": "stream",
     "text": [
      "no_of_trainings                 0\n",
      "age                             0\n",
      "previous_year_rating            0\n",
      "length_of_service               0\n",
      "awards_won                      0\n",
      "avg_training_score              0\n",
      "Target                          0\n",
      "gender_m                        0\n",
      "department_Finance              0\n",
      "department_HR                   0\n",
      "department_Legal                0\n",
      "department_Operations           0\n",
      "department_Procurement          0\n",
      "department_R&D                  0\n",
      "department_Sales & Marketing    0\n",
      "department_Technology           0\n",
      "education_Below Secondary       0\n",
      "education_Masters & above       0\n",
      "recruitment_channel_referred    0\n",
      "recruitment_channel_sourcing    0\n",
      "region_region_10                0\n",
      "region_region_11                0\n",
      "region_region_12                0\n",
      "region_region_13                0\n",
      "region_region_14                0\n",
      "region_region_15                0\n",
      "region_region_16                0\n",
      "region_region_17                0\n",
      "region_region_18                0\n",
      "region_region_19                0\n",
      "region_region_2                 0\n",
      "region_region_20                0\n",
      "region_region_21                0\n",
      "region_region_22                0\n",
      "region_region_23                0\n",
      "region_region_24                0\n",
      "region_region_25                0\n",
      "region_region_26                0\n",
      "region_region_27                0\n",
      "region_region_28                0\n",
      "region_region_29                0\n",
      "region_region_3                 0\n",
      "region_region_30                0\n",
      "region_region_31                0\n",
      "region_region_32                0\n",
      "region_region_33                0\n",
      "region_region_34                0\n",
      "region_region_4                 0\n",
      "region_region_5                 0\n",
      "region_region_6                 0\n",
      "region_region_7                 0\n",
      "region_region_8                 0\n",
      "region_region_9                 0\n",
      "dtype: int64\n"
     ]
    }
   ],
   "source": [
    "\n",
    "numeric_cols = data.select_dtypes(include=['float64', 'int64']).columns\n",
    "categorical_cols = data.select_dtypes(include=['object']).columns\n",
    "\n",
    "\n",
    "data[numeric_cols] = data[numeric_cols].apply(lambda col: col.fillna(col.median()), axis=0)\n",
    "\n",
    "\n",
    "data[categorical_cols] = data[categorical_cols].apply(lambda col: col.fillna(col.mode()[0]), axis=0)\n",
    "\n",
    "\n",
    "print(data.isnull().sum())\n"
   ]
  },
  {
   "cell_type": "markdown",
   "id": "e6dca4f3",
   "metadata": {},
   "source": [
    "# train test split the data"
   ]
  },
  {
   "cell_type": "code",
   "execution_count": 85,
   "id": "ccb0f293",
   "metadata": {},
   "outputs": [],
   "source": [
    "\n",
    "X = data.drop(['Target'], axis=1)\n",
    "y = data['Target']\n",
    "\n",
    "\n",
    "X_train, X_test, y_train, y_test = train_test_split(X, y, test_size=0.2, random_state=42)\n"
   ]
  },
  {
   "cell_type": "markdown",
   "id": "04927aae",
   "metadata": {},
   "source": [
    "# Build the model"
   ]
  },
  {
   "cell_type": "code",
   "execution_count": 86,
   "id": "ab728620",
   "metadata": {},
   "outputs": [
    {
     "data": {
      "text/html": [
       "<style>#sk-container-id-2 {color: black;}#sk-container-id-2 pre{padding: 0;}#sk-container-id-2 div.sk-toggleable {background-color: white;}#sk-container-id-2 label.sk-toggleable__label {cursor: pointer;display: block;width: 100%;margin-bottom: 0;padding: 0.3em;box-sizing: border-box;text-align: center;}#sk-container-id-2 label.sk-toggleable__label-arrow:before {content: \"▸\";float: left;margin-right: 0.25em;color: #696969;}#sk-container-id-2 label.sk-toggleable__label-arrow:hover:before {color: black;}#sk-container-id-2 div.sk-estimator:hover label.sk-toggleable__label-arrow:before {color: black;}#sk-container-id-2 div.sk-toggleable__content {max-height: 0;max-width: 0;overflow: hidden;text-align: left;background-color: #f0f8ff;}#sk-container-id-2 div.sk-toggleable__content pre {margin: 0.2em;color: black;border-radius: 0.25em;background-color: #f0f8ff;}#sk-container-id-2 input.sk-toggleable__control:checked~div.sk-toggleable__content {max-height: 200px;max-width: 100%;overflow: auto;}#sk-container-id-2 input.sk-toggleable__control:checked~label.sk-toggleable__label-arrow:before {content: \"▾\";}#sk-container-id-2 div.sk-estimator input.sk-toggleable__control:checked~label.sk-toggleable__label {background-color: #d4ebff;}#sk-container-id-2 div.sk-label input.sk-toggleable__control:checked~label.sk-toggleable__label {background-color: #d4ebff;}#sk-container-id-2 input.sk-hidden--visually {border: 0;clip: rect(1px 1px 1px 1px);clip: rect(1px, 1px, 1px, 1px);height: 1px;margin: -1px;overflow: hidden;padding: 0;position: absolute;width: 1px;}#sk-container-id-2 div.sk-estimator {font-family: monospace;background-color: #f0f8ff;border: 1px dotted black;border-radius: 0.25em;box-sizing: border-box;margin-bottom: 0.5em;}#sk-container-id-2 div.sk-estimator:hover {background-color: #d4ebff;}#sk-container-id-2 div.sk-parallel-item::after {content: \"\";width: 100%;border-bottom: 1px solid gray;flex-grow: 1;}#sk-container-id-2 div.sk-label:hover label.sk-toggleable__label {background-color: #d4ebff;}#sk-container-id-2 div.sk-serial::before {content: \"\";position: absolute;border-left: 1px solid gray;box-sizing: border-box;top: 0;bottom: 0;left: 50%;z-index: 0;}#sk-container-id-2 div.sk-serial {display: flex;flex-direction: column;align-items: center;background-color: white;padding-right: 0.2em;padding-left: 0.2em;position: relative;}#sk-container-id-2 div.sk-item {position: relative;z-index: 1;}#sk-container-id-2 div.sk-parallel {display: flex;align-items: stretch;justify-content: center;background-color: white;position: relative;}#sk-container-id-2 div.sk-item::before, #sk-container-id-2 div.sk-parallel-item::before {content: \"\";position: absolute;border-left: 1px solid gray;box-sizing: border-box;top: 0;bottom: 0;left: 50%;z-index: -1;}#sk-container-id-2 div.sk-parallel-item {display: flex;flex-direction: column;z-index: 1;position: relative;background-color: white;}#sk-container-id-2 div.sk-parallel-item:first-child::after {align-self: flex-end;width: 50%;}#sk-container-id-2 div.sk-parallel-item:last-child::after {align-self: flex-start;width: 50%;}#sk-container-id-2 div.sk-parallel-item:only-child::after {width: 0;}#sk-container-id-2 div.sk-dashed-wrapped {border: 1px dashed gray;margin: 0 0.4em 0.5em 0.4em;box-sizing: border-box;padding-bottom: 0.4em;background-color: white;}#sk-container-id-2 div.sk-label label {font-family: monospace;font-weight: bold;display: inline-block;line-height: 1.2em;}#sk-container-id-2 div.sk-label-container {text-align: center;}#sk-container-id-2 div.sk-container {/* jupyter's `normalize.less` sets `[hidden] { display: none; }` but bootstrap.min.css set `[hidden] { display: none !important; }` so we also need the `!important` here to be able to override the default hidden behavior on the sphinx rendered scikit-learn.org. See: https://github.com/scikit-learn/scikit-learn/issues/21755 */display: inline-block !important;position: relative;}#sk-container-id-2 div.sk-text-repr-fallback {display: none;}</style><div id=\"sk-container-id-2\" class=\"sk-top-container\"><div class=\"sk-text-repr-fallback\"><pre>RandomForestClassifier(random_state=42)</pre><b>In a Jupyter environment, please rerun this cell to show the HTML representation or trust the notebook. <br />On GitHub, the HTML representation is unable to render, please try loading this page with nbviewer.org.</b></div><div class=\"sk-container\" hidden><div class=\"sk-item\"><div class=\"sk-estimator sk-toggleable\"><input class=\"sk-toggleable__control sk-hidden--visually\" id=\"sk-estimator-id-2\" type=\"checkbox\" checked><label for=\"sk-estimator-id-2\" class=\"sk-toggleable__label sk-toggleable__label-arrow\">RandomForestClassifier</label><div class=\"sk-toggleable__content\"><pre>RandomForestClassifier(random_state=42)</pre></div></div></div></div></div>"
      ],
      "text/plain": [
       "RandomForestClassifier(random_state=42)"
      ]
     },
     "execution_count": 86,
     "metadata": {},
     "output_type": "execute_result"
    }
   ],
   "source": [
    "\n",
    "model = RandomForestClassifier(n_estimators=100, random_state=42)\n",
    "\n",
    "\n",
    "model.fit(X_train, y_train)\n"
   ]
  },
  {
   "cell_type": "markdown",
   "id": "d2f89df3",
   "metadata": {},
   "source": [
    "# Making predictions"
   ]
  },
  {
   "cell_type": "code",
   "execution_count": 87,
   "id": "2b005ae4",
   "metadata": {},
   "outputs": [
    {
     "name": "stdout",
     "output_type": "stream",
     "text": [
      "['Not Hired', 'Not Hired', 'Not Hired', 'Not Hired', 'Not Hired', 'Not Hired', 'Hired', 'Not Hired', 'Not Hired', 'Not Hired', 'Not Hired', 'Hired', 'Not Hired', 'Hired', 'Not Hired', 'Not Hired', 'Not Hired', 'Not Hired', 'Not Hired', 'Hired', 'Hired', 'Not Hired', 'Not Hired', 'Not Hired', 'Not Hired', 'Not Hired', 'Not Hired', 'Not Hired', 'Not Hired', 'Not Hired', 'Hired', 'Not Hired', 'Not Hired', 'Hired', 'Not Hired', 'Not Hired', 'Not Hired', 'Not Hired', 'Hired', 'Not Hired', 'Not Hired', 'Not Hired', 'Not Hired', 'Not Hired', 'Not Hired', 'Hired', 'Not Hired', 'Not Hired', 'Not Hired', 'Hired', 'Not Hired', 'Not Hired', 'Hired', 'Not Hired', 'Not Hired', 'Not Hired', 'Hired', 'Not Hired', 'Not Hired', 'Hired', 'Not Hired', 'Not Hired', 'Not Hired', 'Not Hired', 'Not Hired', 'Not Hired', 'Not Hired', 'Hired', 'Not Hired', 'Not Hired', 'Hired', 'Not Hired', 'Hired', 'Not Hired', 'Not Hired', 'Hired', 'Hired', 'Not Hired', 'Not Hired', 'Hired', 'Not Hired', 'Not Hired', 'Not Hired', 'Not Hired', 'Not Hired', 'Not Hired', 'Not Hired', 'Not Hired', 'Not Hired', 'Not Hired', 'Not Hired', 'Not Hired', 'Not Hired', 'Not Hired', 'Not Hired', 'Not Hired', 'Not Hired', 'Not Hired', 'Not Hired', 'Not Hired', 'Not Hired', 'Not Hired', 'Not Hired', 'Hired', 'Not Hired', 'Hired', 'Not Hired', 'Not Hired', 'Not Hired', 'Not Hired', 'Not Hired', 'Hired', 'Not Hired', 'Not Hired', 'Hired', 'Not Hired', 'Not Hired', 'Hired', 'Hired', 'Not Hired', 'Not Hired', 'Not Hired', 'Not Hired', 'Not Hired', 'Not Hired', 'Hired', 'Not Hired', 'Hired', 'Not Hired', 'Not Hired', 'Not Hired', 'Not Hired', 'Not Hired', 'Hired', 'Hired', 'Not Hired', 'Not Hired', 'Hired', 'Not Hired', 'Not Hired', 'Not Hired', 'Not Hired', 'Not Hired', 'Not Hired', 'Not Hired', 'Not Hired', 'Not Hired', 'Not Hired', 'Hired', 'Not Hired', 'Not Hired', 'Not Hired', 'Hired', 'Not Hired', 'Not Hired', 'Not Hired', 'Not Hired', 'Hired', 'Not Hired', 'Not Hired', 'Not Hired', 'Not Hired', 'Not Hired', 'Not Hired', 'Not Hired', 'Hired', 'Not Hired', 'Hired', 'Not Hired', 'Not Hired', 'Hired', 'Hired', 'Not Hired', 'Not Hired', 'Not Hired', 'Not Hired', 'Hired', 'Not Hired', 'Not Hired', 'Hired', 'Not Hired', 'Not Hired', 'Not Hired', 'Not Hired', 'Not Hired', 'Not Hired', 'Not Hired', 'Not Hired', 'Not Hired', 'Hired', 'Not Hired', 'Not Hired', 'Hired', 'Hired', 'Hired', 'Not Hired', 'Not Hired', 'Hired', 'Not Hired', 'Hired', 'Not Hired', 'Not Hired', 'Hired', 'Not Hired', 'Hired', 'Not Hired', 'Hired', 'Hired', 'Not Hired', 'Not Hired', 'Not Hired', 'Not Hired', 'Not Hired', 'Not Hired', 'Not Hired', 'Not Hired', 'Not Hired', 'Not Hired', 'Not Hired', 'Hired', 'Hired', 'Not Hired', 'Not Hired', 'Not Hired', 'Hired', 'Hired', 'Not Hired', 'Not Hired', 'Hired', 'Not Hired', 'Not Hired', 'Not Hired', 'Hired', 'Not Hired', 'Not Hired', 'Not Hired', 'Hired', 'Not Hired', 'Hired', 'Hired', 'Not Hired', 'Not Hired', 'Not Hired', 'Not Hired', 'Not Hired', 'Not Hired', 'Not Hired', 'Hired', 'Not Hired', 'Not Hired', 'Not Hired', 'Not Hired', 'Not Hired', 'Not Hired', 'Hired', 'Hired', 'Hired', 'Hired', 'Not Hired', 'Not Hired', 'Not Hired', 'Not Hired', 'Hired', 'Not Hired', 'Hired', 'Not Hired', 'Not Hired', 'Not Hired', 'Not Hired', 'Hired', 'Hired', 'Not Hired', 'Not Hired', 'Not Hired', 'Not Hired', 'Not Hired', 'Not Hired', 'Not Hired', 'Hired', 'Not Hired', 'Hired', 'Not Hired', 'Not Hired', 'Not Hired', 'Not Hired', 'Not Hired', 'Not Hired', 'Not Hired', 'Not Hired', 'Not Hired', 'Not Hired', 'Hired', 'Not Hired', 'Hired', 'Hired', 'Not Hired', 'Not Hired', 'Not Hired', 'Not Hired', 'Not Hired', 'Hired', 'Not Hired', 'Not Hired', 'Hired', 'Not Hired', 'Not Hired', 'Not Hired', 'Not Hired', 'Hired', 'Not Hired', 'Not Hired', 'Not Hired', 'Not Hired', 'Not Hired', 'Not Hired', 'Not Hired', 'Not Hired', 'Not Hired', 'Hired', 'Not Hired', 'Hired', 'Hired', 'Not Hired', 'Not Hired', 'Not Hired', 'Hired', 'Not Hired', 'Not Hired', 'Not Hired', 'Not Hired', 'Not Hired', 'Not Hired', 'Not Hired', 'Not Hired', 'Not Hired', 'Not Hired', 'Not Hired', 'Not Hired', 'Hired', 'Not Hired', 'Not Hired', 'Not Hired', 'Not Hired', 'Hired', 'Not Hired', 'Not Hired', 'Not Hired', 'Hired', 'Hired', 'Not Hired', 'Hired', 'Not Hired', 'Hired', 'Hired', 'Hired', 'Hired', 'Not Hired', 'Hired', 'Not Hired', 'Hired', 'Hired', 'Not Hired', 'Hired', 'Not Hired', 'Not Hired', 'Not Hired', 'Not Hired', 'Not Hired', 'Not Hired', 'Hired', 'Hired', 'Not Hired', 'Not Hired', 'Not Hired', 'Not Hired', 'Not Hired', 'Not Hired', 'Not Hired', 'Not Hired', 'Not Hired', 'Not Hired', 'Not Hired', 'Not Hired', 'Not Hired', 'Hired', 'Not Hired', 'Not Hired', 'Hired', 'Hired', 'Not Hired', 'Not Hired', 'Not Hired', 'Hired', 'Not Hired', 'Not Hired', 'Not Hired', 'Not Hired', 'Not Hired', 'Not Hired', 'Not Hired', 'Not Hired', 'Hired', 'Not Hired', 'Not Hired', 'Not Hired', 'Not Hired', 'Not Hired', 'Not Hired', 'Not Hired', 'Not Hired', 'Not Hired', 'Hired', 'Not Hired', 'Hired', 'Hired', 'Not Hired', 'Hired', 'Hired', 'Not Hired', 'Not Hired', 'Not Hired', 'Not Hired', 'Not Hired', 'Not Hired', 'Not Hired', 'Not Hired', 'Hired', 'Not Hired', 'Not Hired', 'Not Hired', 'Not Hired', 'Not Hired', 'Not Hired', 'Not Hired', 'Not Hired', 'Not Hired', 'Not Hired', 'Hired', 'Not Hired', 'Not Hired', 'Not Hired', 'Not Hired', 'Not Hired', 'Not Hired', 'Hired', 'Not Hired', 'Not Hired', 'Not Hired', 'Hired', 'Not Hired', 'Not Hired', 'Not Hired', 'Not Hired', 'Not Hired', 'Hired', 'Not Hired', 'Hired', 'Not Hired', 'Not Hired', 'Not Hired', 'Not Hired', 'Not Hired', 'Hired', 'Hired', 'Not Hired', 'Not Hired', 'Not Hired', 'Not Hired', 'Not Hired', 'Hired', 'Hired', 'Not Hired', 'Not Hired', 'Hired', 'Not Hired', 'Not Hired', 'Hired', 'Not Hired', 'Not Hired', 'Not Hired', 'Hired', 'Not Hired', 'Hired', 'Hired', 'Hired', 'Not Hired', 'Hired', 'Not Hired', 'Not Hired', 'Not Hired', 'Not Hired', 'Not Hired', 'Hired', 'Not Hired', 'Hired', 'Not Hired', 'Hired', 'Not Hired', 'Not Hired', 'Not Hired', 'Not Hired', 'Not Hired', 'Hired', 'Hired', 'Not Hired', 'Hired', 'Not Hired', 'Not Hired', 'Not Hired', 'Hired', 'Not Hired', 'Hired', 'Not Hired', 'Not Hired', 'Not Hired', 'Not Hired', 'Not Hired', 'Not Hired', 'Not Hired', 'Not Hired', 'Not Hired', 'Not Hired', 'Not Hired', 'Not Hired', 'Not Hired', 'Not Hired', 'Not Hired', 'Not Hired', 'Not Hired', 'Hired', 'Not Hired', 'Not Hired', 'Not Hired', 'Not Hired', 'Hired', 'Not Hired', 'Not Hired', 'Not Hired', 'Not Hired', 'Not Hired', 'Not Hired', 'Not Hired', 'Not Hired', 'Not Hired', 'Hired', 'Not Hired', 'Not Hired', 'Not Hired', 'Not Hired', 'Not Hired', 'Hired', 'Not Hired', 'Hired', 'Hired', 'Not Hired', 'Not Hired', 'Not Hired', 'Hired', 'Not Hired', 'Not Hired', 'Hired', 'Hired', 'Not Hired', 'Not Hired', 'Not Hired', 'Hired', 'Hired', 'Not Hired', 'Not Hired', 'Not Hired', 'Not Hired', 'Hired', 'Hired', 'Not Hired', 'Hired', 'Not Hired', 'Not Hired', 'Hired', 'Not Hired', 'Not Hired', 'Not Hired', 'Not Hired', 'Not Hired', 'Hired', 'Not Hired', 'Not Hired', 'Not Hired', 'Not Hired', 'Not Hired', 'Not Hired', 'Not Hired', 'Not Hired', 'Not Hired', 'Not Hired', 'Not Hired', 'Hired', 'Not Hired', 'Not Hired', 'Not Hired', 'Not Hired', 'Hired', 'Not Hired', 'Not Hired', 'Not Hired', 'Not Hired', 'Not Hired', 'Not Hired', 'Not Hired', 'Not Hired', 'Not Hired', 'Not Hired', 'Hired', 'Not Hired', 'Not Hired', 'Not Hired', 'Not Hired', 'Not Hired', 'Not Hired', 'Hired', 'Not Hired', 'Not Hired', 'Hired', 'Not Hired', 'Not Hired', 'Not Hired', 'Not Hired', 'Not Hired', 'Hired', 'Not Hired', 'Hired', 'Not Hired', 'Hired', 'Hired', 'Not Hired', 'Hired', 'Not Hired', 'Hired', 'Hired', 'Hired', 'Not Hired', 'Hired', 'Not Hired', 'Not Hired', 'Not Hired', 'Not Hired', 'Not Hired', 'Not Hired', 'Hired', 'Not Hired', 'Hired', 'Hired', 'Not Hired', 'Not Hired', 'Hired', 'Not Hired', 'Not Hired', 'Not Hired', 'Not Hired', 'Hired', 'Not Hired', 'Not Hired', 'Not Hired', 'Hired', 'Not Hired', 'Hired', 'Not Hired', 'Not Hired', 'Not Hired', 'Not Hired', 'Not Hired', 'Not Hired', 'Not Hired', 'Not Hired', 'Not Hired', 'Not Hired', 'Hired', 'Hired', 'Not Hired', 'Not Hired', 'Not Hired', 'Not Hired', 'Not Hired', 'Hired', 'Not Hired', 'Not Hired', 'Not Hired', 'Not Hired', 'Not Hired', 'Not Hired', 'Not Hired', 'Not Hired', 'Not Hired', 'Not Hired', 'Hired', 'Not Hired', 'Hired', 'Not Hired', 'Not Hired', 'Not Hired', 'Not Hired', 'Hired', 'Not Hired', 'Not Hired', 'Not Hired', 'Not Hired', 'Hired', 'Hired', 'Hired', 'Not Hired', 'Hired', 'Hired', 'Not Hired', 'Not Hired', 'Not Hired', 'Not Hired', 'Not Hired', 'Not Hired', 'Hired', 'Not Hired', 'Not Hired', 'Not Hired', 'Not Hired', 'Not Hired', 'Not Hired', 'Not Hired', 'Not Hired', 'Hired', 'Not Hired', 'Hired', 'Not Hired', 'Not Hired', 'Not Hired', 'Not Hired', 'Not Hired', 'Not Hired', 'Hired', 'Not Hired', 'Not Hired', 'Not Hired', 'Not Hired', 'Not Hired', 'Not Hired', 'Not Hired', 'Not Hired', 'Not Hired', 'Not Hired', 'Not Hired', 'Not Hired', 'Hired', 'Not Hired', 'Not Hired', 'Not Hired', 'Not Hired', 'Not Hired', 'Not Hired', 'Not Hired', 'Not Hired', 'Not Hired', 'Hired', 'Not Hired', 'Hired', 'Not Hired', 'Not Hired', 'Not Hired', 'Hired', 'Hired', 'Not Hired', 'Not Hired', 'Not Hired', 'Not Hired', 'Not Hired', 'Hired', 'Not Hired', 'Not Hired', 'Not Hired', 'Not Hired', 'Not Hired', 'Hired', 'Not Hired', 'Hired', 'Hired', 'Not Hired', 'Not Hired', 'Hired', 'Not Hired', 'Not Hired', 'Not Hired', 'Not Hired', 'Not Hired', 'Hired', 'Hired', 'Not Hired', 'Hired', 'Not Hired', 'Not Hired', 'Not Hired', 'Not Hired', 'Not Hired', 'Not Hired', 'Not Hired', 'Not Hired', 'Not Hired', 'Not Hired', 'Not Hired', 'Hired', 'Not Hired', 'Not Hired', 'Not Hired', 'Not Hired', 'Not Hired', 'Not Hired', 'Not Hired', 'Not Hired', 'Not Hired', 'Not Hired', 'Not Hired', 'Hired', 'Not Hired', 'Not Hired', 'Hired', 'Not Hired', 'Not Hired', 'Hired', 'Not Hired', 'Not Hired', 'Not Hired', 'Hired', 'Not Hired', 'Hired', 'Hired', 'Not Hired', 'Hired', 'Not Hired', 'Not Hired', 'Not Hired', 'Hired', 'Not Hired', 'Not Hired', 'Hired', 'Not Hired', 'Hired', 'Not Hired', 'Not Hired', 'Not Hired', 'Not Hired', 'Not Hired', 'Not Hired', 'Not Hired', 'Hired', 'Not Hired', 'Not Hired', 'Not Hired', 'Not Hired', 'Hired', 'Not Hired', 'Not Hired', 'Hired', 'Not Hired', 'Hired', 'Not Hired', 'Hired', 'Hired', 'Not Hired', 'Not Hired', 'Not Hired', 'Not Hired', 'Not Hired', 'Not Hired', 'Not Hired', 'Not Hired', 'Not Hired', 'Not Hired', 'Not Hired', 'Not Hired', 'Hired', 'Not Hired', 'Not Hired', 'Hired', 'Not Hired', 'Not Hired', 'Not Hired', 'Not Hired', 'Not Hired', 'Not Hired', 'Not Hired', 'Not Hired', 'Not Hired', 'Not Hired', 'Not Hired', 'Not Hired', 'Not Hired', 'Hired', 'Not Hired', 'Not Hired', 'Hired', 'Not Hired', 'Not Hired', 'Not Hired', 'Hired', 'Not Hired', 'Not Hired', 'Not Hired', 'Not Hired', 'Not Hired', 'Hired', 'Not Hired', 'Not Hired', 'Not Hired', 'Hired', 'Not Hired', 'Hired', 'Not Hired', 'Not Hired', 'Hired', 'Not Hired', 'Hired', 'Not Hired', 'Not Hired', 'Not Hired', 'Not Hired', 'Not Hired', 'Not Hired', 'Hired', 'Not Hired', 'Not Hired', 'Not Hired', 'Not Hired', 'Not Hired', 'Not Hired', 'Not Hired', 'Not Hired', 'Not Hired', 'Not Hired', 'Not Hired', 'Not Hired', 'Not Hired', 'Not Hired', 'Not Hired', 'Not Hired', 'Hired', 'Not Hired', 'Not Hired', 'Not Hired', 'Not Hired', 'Hired', 'Not Hired', 'Hired', 'Not Hired', 'Not Hired', 'Not Hired', 'Not Hired', 'Not Hired', 'Hired', 'Not Hired', 'Hired', 'Not Hired', 'Not Hired', 'Not Hired', 'Hired', 'Hired', 'Not Hired', 'Hired', 'Not Hired', 'Hired', 'Not Hired', 'Hired', 'Not Hired', 'Not Hired', 'Hired', 'Not Hired', 'Not Hired', 'Not Hired', 'Hired', 'Not Hired', 'Not Hired', 'Hired', 'Not Hired', 'Not Hired', 'Not Hired', 'Not Hired', 'Not Hired', 'Not Hired', 'Not Hired', 'Not Hired', 'Not Hired', 'Not Hired', 'Not Hired', 'Not Hired', 'Not Hired', 'Not Hired', 'Not Hired', 'Hired', 'Not Hired', 'Not Hired', 'Not Hired', 'Hired', 'Not Hired', 'Not Hired', 'Not Hired', 'Not Hired', 'Not Hired', 'Hired', 'Not Hired', 'Not Hired', 'Not Hired', 'Not Hired', 'Not Hired', 'Not Hired', 'Hired', 'Not Hired', 'Not Hired', 'Not Hired', 'Not Hired', 'Not Hired', 'Hired', 'Hired', 'Hired', 'Not Hired', 'Not Hired', 'Not Hired', 'Hired', 'Not Hired', 'Not Hired', 'Not Hired', 'Not Hired', 'Not Hired', 'Not Hired', 'Not Hired', 'Not Hired', 'Not Hired', 'Not Hired', 'Not Hired', 'Hired', 'Not Hired', 'Not Hired', 'Hired', 'Not Hired', 'Hired', 'Not Hired', 'Not Hired', 'Not Hired', 'Not Hired', 'Hired', 'Hired', 'Hired', 'Hired', 'Not Hired', 'Not Hired', 'Not Hired', 'Hired', 'Hired', 'Hired', 'Hired', 'Not Hired', 'Not Hired', 'Hired', 'Not Hired', 'Not Hired', 'Not Hired', 'Not Hired', 'Not Hired', 'Not Hired', 'Hired', 'Not Hired', 'Not Hired', 'Not Hired', 'Hired', 'Not Hired', 'Hired', 'Not Hired', 'Not Hired', 'Not Hired', 'Hired', 'Not Hired', 'Not Hired', 'Not Hired', 'Not Hired', 'Not Hired', 'Not Hired', 'Not Hired', 'Not Hired', 'Not Hired', 'Not Hired', 'Not Hired', 'Hired', 'Hired', 'Hired', 'Hired', 'Hired', 'Hired', 'Hired', 'Hired', 'Hired', 'Not Hired', 'Not Hired', 'Not Hired', 'Hired', 'Not Hired', 'Not Hired', 'Not Hired', 'Hired', 'Not Hired', 'Not Hired', 'Not Hired', 'Not Hired', 'Not Hired', 'Not Hired', 'Not Hired', 'Not Hired', 'Not Hired', 'Not Hired', 'Not Hired', 'Not Hired', 'Hired', 'Not Hired', 'Not Hired', 'Not Hired', 'Not Hired', 'Hired', 'Not Hired', 'Not Hired', 'Hired', 'Hired', 'Not Hired', 'Not Hired', 'Not Hired', 'Hired', 'Not Hired', 'Not Hired', 'Not Hired', 'Not Hired', 'Not Hired', 'Not Hired', 'Not Hired', 'Not Hired', 'Not Hired', 'Not Hired', 'Not Hired', 'Not Hired', 'Hired', 'Hired', 'Hired', 'Hired', 'Not Hired', 'Not Hired', 'Hired', 'Not Hired', 'Not Hired', 'Not Hired', 'Not Hired', 'Not Hired', 'Not Hired', 'Not Hired', 'Not Hired', 'Not Hired', 'Not Hired', 'Not Hired', 'Not Hired', 'Not Hired', 'Not Hired', 'Not Hired', 'Not Hired', 'Not Hired', 'Not Hired', 'Not Hired', 'Not Hired', 'Not Hired', 'Not Hired', 'Not Hired', 'Hired', 'Not Hired', 'Not Hired', 'Hired', 'Not Hired', 'Not Hired', 'Hired', 'Not Hired', 'Hired', 'Not Hired', 'Hired', 'Not Hired', 'Not Hired', 'Hired', 'Not Hired', 'Hired', 'Hired', 'Not Hired', 'Hired', 'Not Hired', 'Not Hired', 'Not Hired', 'Not Hired', 'Hired', 'Not Hired', 'Hired', 'Not Hired', 'Not Hired', 'Not Hired', 'Hired', 'Not Hired', 'Not Hired', 'Hired', 'Not Hired', 'Not Hired', 'Not Hired', 'Hired', 'Not Hired', 'Not Hired', 'Not Hired', 'Not Hired', 'Hired', 'Not Hired', 'Not Hired', 'Not Hired', 'Not Hired', 'Not Hired', 'Hired', 'Hired', 'Hired', 'Not Hired', 'Hired', 'Not Hired', 'Hired', 'Not Hired', 'Not Hired', 'Hired', 'Not Hired', 'Not Hired', 'Not Hired', 'Not Hired', 'Not Hired', 'Not Hired', 'Hired', 'Not Hired', 'Not Hired', 'Hired', 'Hired', 'Not Hired', 'Not Hired', 'Not Hired', 'Not Hired', 'Hired', 'Not Hired', 'Hired', 'Not Hired', 'Not Hired', 'Not Hired', 'Hired', 'Not Hired', 'Not Hired', 'Not Hired', 'Not Hired', 'Not Hired', 'Hired', 'Not Hired', 'Not Hired', 'Not Hired', 'Not Hired', 'Hired', 'Not Hired', 'Not Hired', 'Not Hired', 'Not Hired', 'Not Hired', 'Not Hired', 'Not Hired', 'Not Hired', 'Hired', 'Hired', 'Not Hired', 'Not Hired', 'Not Hired', 'Hired', 'Not Hired', 'Not Hired', 'Hired', 'Not Hired', 'Not Hired', 'Hired', 'Not Hired', 'Not Hired', 'Not Hired', 'Not Hired', 'Not Hired', 'Not Hired', 'Hired', 'Not Hired', 'Not Hired', 'Not Hired', 'Hired', 'Hired', 'Not Hired', 'Not Hired', 'Not Hired', 'Not Hired', 'Hired', 'Not Hired', 'Not Hired', 'Not Hired', 'Not Hired', 'Not Hired', 'Not Hired', 'Not Hired', 'Not Hired', 'Not Hired', 'Not Hired', 'Not Hired', 'Not Hired', 'Hired', 'Not Hired', 'Not Hired', 'Hired', 'Not Hired', 'Not Hired', 'Not Hired', 'Not Hired', 'Not Hired', 'Not Hired', 'Not Hired', 'Not Hired', 'Not Hired', 'Not Hired', 'Not Hired', 'Hired', 'Not Hired', 'Not Hired', 'Not Hired', 'Not Hired', 'Not Hired', 'Not Hired', 'Not Hired', 'Not Hired', 'Hired', 'Not Hired', 'Not Hired', 'Not Hired', 'Not Hired', 'Hired', 'Not Hired', 'Not Hired', 'Not Hired', 'Not Hired', 'Hired', 'Not Hired', 'Not Hired', 'Not Hired', 'Not Hired', 'Not Hired', 'Hired', 'Hired', 'Not Hired', 'Not Hired', 'Not Hired', 'Not Hired', 'Hired', 'Not Hired', 'Not Hired', 'Hired', 'Hired', 'Not Hired', 'Not Hired', 'Not Hired', 'Not Hired', 'Not Hired', 'Not Hired', 'Hired', 'Not Hired', 'Not Hired', 'Not Hired', 'Not Hired', 'Hired', 'Hired', 'Not Hired', 'Not Hired', 'Hired', 'Hired', 'Not Hired', 'Not Hired', 'Not Hired', 'Not Hired', 'Hired', 'Hired', 'Hired', 'Not Hired', 'Hired', 'Hired', 'Not Hired', 'Not Hired', 'Not Hired', 'Not Hired', 'Not Hired', 'Hired', 'Not Hired', 'Hired', 'Not Hired', 'Not Hired', 'Not Hired', 'Not Hired', 'Not Hired', 'Hired', 'Not Hired', 'Not Hired', 'Hired', 'Not Hired', 'Not Hired', 'Not Hired', 'Not Hired', 'Hired', 'Hired', 'Not Hired', 'Hired', 'Not Hired', 'Not Hired', 'Not Hired', 'Hired', 'Not Hired', 'Hired', 'Not Hired', 'Not Hired', 'Hired', 'Not Hired', 'Not Hired', 'Not Hired', 'Hired', 'Not Hired', 'Not Hired', 'Not Hired', 'Not Hired', 'Not Hired', 'Hired', 'Not Hired', 'Not Hired', 'Not Hired', 'Not Hired', 'Not Hired', 'Hired', 'Not Hired', 'Not Hired', 'Hired', 'Not Hired', 'Not Hired', 'Not Hired', 'Not Hired', 'Not Hired', 'Not Hired', 'Hired', 'Not Hired', 'Not Hired', 'Not Hired', 'Not Hired', 'Hired', 'Not Hired', 'Not Hired', 'Hired', 'Not Hired', 'Not Hired', 'Not Hired', 'Not Hired', 'Not Hired', 'Not Hired', 'Hired', 'Not Hired', 'Not Hired', 'Not Hired', 'Not Hired', 'Not Hired', 'Not Hired', 'Hired', 'Hired', 'Hired', 'Not Hired', 'Not Hired', 'Not Hired', 'Not Hired', 'Hired', 'Not Hired', 'Not Hired', 'Not Hired', 'Not Hired', 'Not Hired', 'Not Hired', 'Not Hired', 'Not Hired', 'Not Hired', 'Not Hired', 'Hired', 'Not Hired', 'Not Hired', 'Hired', 'Hired', 'Hired', 'Not Hired', 'Not Hired', 'Hired', 'Not Hired', 'Hired', 'Not Hired', 'Not Hired', 'Not Hired', 'Not Hired', 'Not Hired', 'Not Hired', 'Not Hired', 'Not Hired', 'Hired', 'Not Hired', 'Not Hired', 'Not Hired', 'Not Hired', 'Not Hired', 'Not Hired', 'Not Hired', 'Not Hired', 'Not Hired', 'Not Hired', 'Not Hired', 'Not Hired', 'Hired', 'Not Hired', 'Not Hired', 'Not Hired', 'Not Hired', 'Not Hired', 'Not Hired', 'Not Hired', 'Not Hired', 'Hired', 'Not Hired', 'Not Hired', 'Hired', 'Not Hired', 'Not Hired', 'Hired', 'Not Hired', 'Hired', 'Not Hired', 'Not Hired', 'Hired', 'Not Hired', 'Not Hired', 'Hired', 'Not Hired', 'Not Hired', 'Not Hired', 'Not Hired', 'Hired', 'Not Hired', 'Not Hired', 'Hired', 'Hired', 'Not Hired', 'Not Hired', 'Hired', 'Hired', 'Not Hired', 'Not Hired', 'Not Hired', 'Not Hired', 'Hired', 'Not Hired', 'Not Hired', 'Hired', 'Not Hired', 'Hired', 'Not Hired', 'Hired', 'Hired', 'Not Hired', 'Not Hired', 'Not Hired', 'Not Hired', 'Not Hired', 'Hired', 'Not Hired', 'Not Hired', 'Not Hired', 'Not Hired', 'Hired', 'Not Hired', 'Not Hired', 'Not Hired', 'Hired', 'Not Hired', 'Hired', 'Not Hired', 'Not Hired', 'Not Hired', 'Not Hired', 'Not Hired', 'Not Hired', 'Not Hired', 'Not Hired', 'Not Hired', 'Not Hired', 'Not Hired', 'Hired', 'Not Hired', 'Not Hired', 'Not Hired', 'Not Hired', 'Hired', 'Not Hired', 'Not Hired', 'Hired', 'Not Hired', 'Not Hired', 'Hired', 'Not Hired', 'Not Hired', 'Not Hired', 'Not Hired', 'Not Hired', 'Hired', 'Not Hired', 'Not Hired', 'Hired', 'Not Hired', 'Not Hired', 'Not Hired', 'Not Hired', 'Not Hired', 'Hired', 'Hired', 'Not Hired', 'Hired', 'Not Hired', 'Not Hired', 'Not Hired', 'Not Hired', 'Not Hired', 'Not Hired', 'Not Hired', 'Not Hired', 'Not Hired', 'Not Hired', 'Not Hired', 'Not Hired', 'Hired', 'Not Hired', 'Not Hired', 'Not Hired', 'Not Hired', 'Not Hired', 'Hired', 'Not Hired', 'Hired', 'Not Hired', 'Not Hired', 'Not Hired', 'Not Hired', 'Not Hired', 'Hired', 'Not Hired', 'Not Hired', 'Not Hired', 'Not Hired', 'Not Hired', 'Not Hired', 'Not Hired', 'Not Hired', 'Hired', 'Not Hired', 'Hired', 'Not Hired', 'Not Hired', 'Not Hired', 'Not Hired', 'Not Hired', 'Hired', 'Not Hired', 'Not Hired', 'Not Hired', 'Not Hired', 'Hired', 'Not Hired', 'Hired', 'Not Hired', 'Not Hired', 'Not Hired', 'Not Hired', 'Not Hired', 'Not Hired', 'Not Hired', 'Not Hired', 'Not Hired', 'Not Hired', 'Not Hired', 'Not Hired', 'Not Hired', 'Not Hired', 'Not Hired', 'Not Hired', 'Not Hired', 'Not Hired', 'Hired', 'Not Hired', 'Not Hired', 'Not Hired', 'Not Hired', 'Not Hired', 'Not Hired', 'Not Hired', 'Not Hired', 'Not Hired', 'Not Hired', 'Not Hired', 'Not Hired', 'Hired', 'Not Hired', 'Hired', 'Hired', 'Hired', 'Not Hired', 'Not Hired', 'Hired', 'Not Hired', 'Not Hired', 'Not Hired', 'Not Hired', 'Hired', 'Not Hired', 'Hired', 'Not Hired', 'Not Hired', 'Hired', 'Not Hired', 'Not Hired', 'Not Hired', 'Not Hired', 'Not Hired', 'Hired', 'Not Hired', 'Not Hired', 'Not Hired', 'Not Hired', 'Hired', 'Hired', 'Not Hired', 'Hired', 'Not Hired', 'Not Hired', 'Not Hired', 'Not Hired', 'Not Hired', 'Hired', 'Not Hired', 'Not Hired', 'Not Hired', 'Not Hired', 'Hired', 'Not Hired', 'Not Hired', 'Not Hired', 'Not Hired', 'Not Hired', 'Not Hired', 'Not Hired', 'Hired', 'Not Hired', 'Not Hired', 'Not Hired', 'Not Hired', 'Hired', 'Not Hired', 'Hired', 'Not Hired', 'Hired', 'Hired', 'Not Hired', 'Not Hired', 'Not Hired', 'Not Hired', 'Not Hired', 'Not Hired', 'Hired', 'Hired', 'Not Hired', 'Not Hired', 'Not Hired', 'Not Hired', 'Hired', 'Hired', 'Hired', 'Not Hired', 'Not Hired', 'Not Hired', 'Not Hired', 'Hired', 'Hired', 'Not Hired', 'Not Hired', 'Hired', 'Not Hired', 'Hired', 'Hired', 'Not Hired', 'Not Hired', 'Not Hired', 'Hired', 'Not Hired', 'Hired', 'Not Hired', 'Hired', 'Not Hired', 'Not Hired', 'Hired', 'Not Hired', 'Hired', 'Not Hired', 'Not Hired', 'Not Hired', 'Not Hired', 'Not Hired', 'Hired', 'Hired', 'Not Hired', 'Not Hired', 'Not Hired', 'Not Hired', 'Hired', 'Not Hired', 'Not Hired', 'Not Hired', 'Not Hired', 'Not Hired', 'Not Hired', 'Not Hired', 'Not Hired', 'Not Hired', 'Not Hired', 'Not Hired', 'Not Hired', 'Not Hired', 'Not Hired', 'Not Hired', 'Not Hired', 'Not Hired', 'Not Hired', 'Not Hired', 'Hired', 'Not Hired', 'Hired', 'Not Hired', 'Not Hired', 'Not Hired', 'Not Hired', 'Not Hired', 'Not Hired', 'Not Hired', 'Hired', 'Not Hired', 'Hired', 'Not Hired', 'Not Hired', 'Not Hired', 'Not Hired', 'Not Hired', 'Not Hired', 'Not Hired', 'Not Hired', 'Hired', 'Not Hired', 'Not Hired', 'Not Hired', 'Hired', 'Not Hired', 'Not Hired', 'Not Hired', 'Not Hired', 'Not Hired', 'Not Hired', 'Not Hired', 'Not Hired', 'Hired', 'Not Hired', 'Hired', 'Not Hired', 'Not Hired', 'Not Hired', 'Not Hired', 'Hired', 'Not Hired', 'Not Hired', 'Not Hired', 'Hired', 'Not Hired', 'Hired', 'Not Hired', 'Not Hired', 'Hired', 'Not Hired', 'Hired', 'Not Hired', 'Not Hired', 'Not Hired', 'Not Hired', 'Not Hired', 'Not Hired', 'Not Hired', 'Not Hired', 'Not Hired', 'Not Hired', 'Hired', 'Not Hired', 'Hired', 'Not Hired', 'Not Hired', 'Not Hired', 'Not Hired', 'Not Hired', 'Not Hired', 'Not Hired', 'Not Hired', 'Not Hired', 'Not Hired', 'Hired', 'Not Hired', 'Not Hired', 'Not Hired', 'Not Hired', 'Hired', 'Hired', 'Not Hired', 'Not Hired', 'Not Hired', 'Hired', 'Not Hired', 'Hired', 'Hired', 'Not Hired', 'Not Hired', 'Not Hired', 'Not Hired', 'Not Hired', 'Hired', 'Not Hired', 'Not Hired', 'Not Hired', 'Hired', 'Hired', 'Not Hired', 'Hired', 'Not Hired', 'Not Hired', 'Hired', 'Not Hired', 'Not Hired', 'Not Hired', 'Not Hired', 'Hired', 'Not Hired', 'Not Hired', 'Not Hired', 'Not Hired', 'Not Hired', 'Not Hired', 'Not Hired', 'Not Hired', 'Not Hired', 'Not Hired', 'Not Hired', 'Hired', 'Not Hired', 'Not Hired', 'Not Hired', 'Not Hired', 'Not Hired', 'Not Hired', 'Not Hired', 'Hired', 'Hired', 'Not Hired', 'Not Hired', 'Not Hired', 'Not Hired', 'Hired', 'Not Hired', 'Not Hired', 'Not Hired', 'Not Hired', 'Not Hired', 'Not Hired', 'Not Hired', 'Hired', 'Not Hired', 'Not Hired', 'Not Hired', 'Not Hired', 'Not Hired', 'Not Hired', 'Not Hired', 'Not Hired', 'Not Hired', 'Hired', 'Not Hired', 'Hired', 'Not Hired', 'Hired', 'Hired', 'Not Hired', 'Not Hired', 'Not Hired', 'Not Hired', 'Hired', 'Not Hired', 'Not Hired', 'Not Hired', 'Not Hired', 'Not Hired', 'Not Hired', 'Hired', 'Not Hired', 'Not Hired', 'Not Hired', 'Not Hired', 'Not Hired', 'Not Hired', 'Not Hired', 'Hired', 'Not Hired', 'Hired', 'Not Hired', 'Hired', 'Hired', 'Hired', 'Not Hired', 'Not Hired', 'Not Hired', 'Not Hired', 'Not Hired', 'Not Hired', 'Not Hired', 'Not Hired', 'Hired', 'Not Hired', 'Not Hired', 'Not Hired', 'Not Hired', 'Not Hired', 'Not Hired', 'Not Hired', 'Hired', 'Not Hired', 'Not Hired', 'Not Hired', 'Not Hired', 'Hired', 'Hired', 'Not Hired', 'Hired', 'Hired', 'Hired', 'Not Hired', 'Not Hired', 'Hired', 'Not Hired', 'Not Hired', 'Not Hired', 'Not Hired', 'Not Hired', 'Not Hired', 'Not Hired', 'Not Hired', 'Hired', 'Not Hired', 'Not Hired', 'Not Hired', 'Not Hired', 'Not Hired', 'Not Hired', 'Not Hired', 'Not Hired', 'Not Hired', 'Hired', 'Not Hired', 'Not Hired', 'Not Hired', 'Not Hired', 'Not Hired', 'Not Hired', 'Not Hired', 'Not Hired', 'Not Hired', 'Not Hired', 'Hired', 'Not Hired', 'Not Hired', 'Not Hired', 'Not Hired', 'Not Hired', 'Not Hired', 'Not Hired', 'Not Hired', 'Hired', 'Not Hired', 'Not Hired', 'Not Hired', 'Hired', 'Hired', 'Not Hired', 'Hired', 'Hired', 'Not Hired', 'Not Hired', 'Not Hired', 'Not Hired', 'Not Hired', 'Not Hired', 'Not Hired', 'Not Hired', 'Not Hired', 'Not Hired', 'Not Hired', 'Not Hired', 'Not Hired', 'Not Hired', 'Hired', 'Hired', 'Not Hired', 'Not Hired', 'Not Hired', 'Not Hired', 'Not Hired', 'Not Hired', 'Not Hired', 'Not Hired', 'Hired', 'Not Hired', 'Not Hired', 'Not Hired', 'Not Hired', 'Not Hired', 'Not Hired', 'Not Hired', 'Hired', 'Not Hired', 'Not Hired', 'Not Hired', 'Not Hired', 'Not Hired', 'Hired', 'Hired', 'Hired', 'Not Hired', 'Not Hired', 'Not Hired', 'Hired', 'Hired', 'Not Hired', 'Not Hired', 'Not Hired', 'Not Hired', 'Not Hired', 'Not Hired', 'Not Hired', 'Not Hired', 'Hired', 'Not Hired', 'Not Hired', 'Hired', 'Not Hired', 'Not Hired', 'Hired', 'Not Hired', 'Hired', 'Not Hired', 'Not Hired', 'Not Hired', 'Not Hired', 'Not Hired', 'Not Hired', 'Not Hired', 'Not Hired', 'Hired', 'Hired', 'Hired', 'Not Hired', 'Not Hired', 'Not Hired', 'Not Hired', 'Hired', 'Not Hired', 'Not Hired', 'Not Hired', 'Hired', 'Not Hired', 'Not Hired', 'Not Hired', 'Not Hired', 'Hired', 'Not Hired', 'Not Hired', 'Not Hired', 'Not Hired', 'Not Hired', 'Not Hired', 'Not Hired', 'Not Hired', 'Not Hired', 'Not Hired', 'Hired', 'Not Hired', 'Not Hired', 'Not Hired', 'Not Hired', 'Hired', 'Not Hired', 'Not Hired', 'Not Hired', 'Not Hired', 'Not Hired', 'Not Hired', 'Not Hired', 'Not Hired', 'Not Hired', 'Not Hired', 'Not Hired', 'Not Hired', 'Hired', 'Not Hired', 'Not Hired', 'Not Hired', 'Not Hired', 'Not Hired', 'Not Hired', 'Hired', 'Not Hired', 'Not Hired', 'Not Hired', 'Not Hired', 'Hired', 'Not Hired', 'Hired', 'Not Hired', 'Not Hired', 'Not Hired', 'Not Hired', 'Not Hired', 'Not Hired', 'Not Hired', 'Hired', 'Not Hired', 'Hired', 'Not Hired', 'Not Hired', 'Not Hired', 'Not Hired', 'Not Hired', 'Not Hired', 'Not Hired', 'Not Hired', 'Not Hired', 'Not Hired', 'Not Hired', 'Hired', 'Not Hired', 'Not Hired', 'Not Hired', 'Not Hired', 'Not Hired', 'Not Hired', 'Not Hired', 'Not Hired', 'Not Hired', 'Not Hired', 'Not Hired', 'Not Hired', 'Hired', 'Hired', 'Not Hired', 'Not Hired', 'Hired', 'Not Hired', 'Not Hired', 'Not Hired', 'Hired', 'Not Hired', 'Not Hired', 'Not Hired', 'Not Hired', 'Not Hired', 'Not Hired', 'Not Hired', 'Not Hired', 'Not Hired', 'Hired', 'Not Hired', 'Not Hired', 'Not Hired', 'Not Hired', 'Hired', 'Not Hired', 'Hired', 'Not Hired', 'Not Hired', 'Hired', 'Not Hired', 'Not Hired', 'Not Hired', 'Hired', 'Not Hired', 'Not Hired', 'Not Hired', 'Not Hired', 'Not Hired', 'Hired', 'Not Hired', 'Not Hired', 'Hired', 'Not Hired', 'Not Hired', 'Hired', 'Not Hired', 'Not Hired', 'Hired', 'Not Hired', 'Not Hired', 'Not Hired', 'Not Hired', 'Not Hired', 'Hired', 'Not Hired', 'Hired', 'Not Hired', 'Not Hired', 'Not Hired', 'Not Hired', 'Hired', 'Not Hired', 'Hired', 'Hired', 'Not Hired', 'Not Hired', 'Not Hired', 'Not Hired', 'Hired', 'Not Hired', 'Hired', 'Not Hired', 'Hired', 'Not Hired', 'Hired', 'Not Hired', 'Hired', 'Not Hired', 'Not Hired', 'Not Hired', 'Not Hired', 'Not Hired', 'Hired', 'Hired', 'Hired', 'Not Hired', 'Not Hired', 'Not Hired', 'Not Hired', 'Not Hired', 'Not Hired', 'Not Hired', 'Not Hired', 'Not Hired', 'Hired', 'Not Hired', 'Not Hired', 'Not Hired', 'Hired', 'Hired', 'Hired', 'Not Hired', 'Not Hired', 'Not Hired', 'Not Hired', 'Not Hired', 'Not Hired', 'Not Hired', 'Not Hired', 'Not Hired', 'Not Hired', 'Not Hired', 'Hired', 'Hired', 'Not Hired', 'Not Hired', 'Hired', 'Not Hired', 'Not Hired', 'Not Hired', 'Not Hired', 'Not Hired', 'Not Hired', 'Not Hired', 'Hired', 'Not Hired', 'Not Hired', 'Not Hired', 'Not Hired', 'Hired', 'Hired', 'Not Hired', 'Not Hired', 'Not Hired', 'Not Hired', 'Not Hired', 'Not Hired', 'Not Hired', 'Hired', 'Not Hired', 'Not Hired', 'Not Hired', 'Hired', 'Not Hired', 'Hired', 'Hired', 'Not Hired', 'Hired', 'Not Hired', 'Not Hired', 'Hired', 'Not Hired', 'Not Hired', 'Not Hired', 'Hired', 'Not Hired', 'Not Hired', 'Hired', 'Not Hired', 'Not Hired', 'Hired', 'Hired', 'Not Hired', 'Not Hired', 'Not Hired', 'Not Hired', 'Hired', 'Not Hired', 'Not Hired', 'Not Hired', 'Not Hired', 'Hired', 'Hired', 'Not Hired', 'Not Hired', 'Hired', 'Not Hired', 'Not Hired', 'Not Hired', 'Hired', 'Not Hired', 'Not Hired', 'Not Hired', 'Not Hired', 'Not Hired', 'Not Hired', 'Not Hired', 'Not Hired', 'Not Hired', 'Not Hired', 'Not Hired', 'Not Hired', 'Not Hired', 'Hired', 'Hired', 'Not Hired', 'Not Hired', 'Not Hired', 'Not Hired', 'Not Hired', 'Not Hired', 'Hired', 'Not Hired', 'Not Hired', 'Not Hired', 'Not Hired', 'Not Hired', 'Hired', 'Not Hired', 'Not Hired', 'Not Hired', 'Not Hired', 'Hired', 'Not Hired', 'Not Hired', 'Not Hired', 'Not Hired', 'Not Hired', 'Not Hired', 'Hired', 'Not Hired', 'Hired', 'Not Hired', 'Not Hired', 'Not Hired', 'Not Hired', 'Not Hired', 'Hired', 'Not Hired', 'Not Hired', 'Not Hired', 'Not Hired', 'Not Hired', 'Not Hired', 'Hired', 'Not Hired', 'Hired', 'Not Hired', 'Hired', 'Hired', 'Not Hired', 'Not Hired', 'Not Hired', 'Not Hired', 'Not Hired', 'Hired', 'Hired', 'Not Hired', 'Not Hired', 'Not Hired', 'Not Hired', 'Not Hired', 'Hired', 'Not Hired', 'Hired', 'Not Hired', 'Not Hired', 'Hired', 'Not Hired', 'Not Hired', 'Hired', 'Hired', 'Not Hired', 'Not Hired', 'Hired', 'Not Hired', 'Not Hired', 'Hired', 'Not Hired', 'Not Hired', 'Not Hired', 'Hired', 'Not Hired', 'Hired', 'Not Hired', 'Not Hired', 'Not Hired', 'Not Hired', 'Not Hired', 'Not Hired', 'Hired', 'Not Hired', 'Not Hired', 'Not Hired', 'Not Hired', 'Not Hired', 'Not Hired', 'Hired', 'Hired', 'Not Hired', 'Hired', 'Hired', 'Not Hired', 'Hired', 'Not Hired', 'Not Hired', 'Not Hired', 'Hired', 'Not Hired', 'Not Hired', 'Not Hired', 'Not Hired', 'Not Hired', 'Hired', 'Not Hired', 'Not Hired', 'Not Hired', 'Hired', 'Not Hired', 'Not Hired', 'Hired', 'Not Hired', 'Not Hired', 'Not Hired', 'Hired', 'Not Hired', 'Hired', 'Not Hired', 'Not Hired', 'Hired', 'Hired', 'Not Hired', 'Not Hired', 'Not Hired', 'Not Hired', 'Not Hired', 'Not Hired', 'Hired', 'Not Hired', 'Not Hired', 'Not Hired', 'Hired', 'Hired', 'Not Hired', 'Not Hired', 'Hired', 'Not Hired', 'Hired', 'Not Hired', 'Not Hired', 'Not Hired', 'Not Hired', 'Not Hired', 'Not Hired', 'Hired', 'Not Hired', 'Not Hired', 'Not Hired', 'Not Hired', 'Not Hired', 'Hired', 'Not Hired', 'Not Hired', 'Not Hired', 'Not Hired', 'Not Hired', 'Not Hired', 'Not Hired', 'Not Hired', 'Not Hired', 'Not Hired', 'Not Hired', 'Not Hired', 'Not Hired', 'Not Hired', 'Not Hired', 'Not Hired', 'Not Hired', 'Not Hired', 'Not Hired', 'Not Hired', 'Hired', 'Hired', 'Not Hired', 'Not Hired', 'Hired', 'Not Hired', 'Not Hired', 'Not Hired', 'Not Hired', 'Not Hired', 'Not Hired', 'Hired', 'Not Hired', 'Hired', 'Not Hired', 'Not Hired', 'Hired', 'Not Hired', 'Not Hired', 'Hired', 'Not Hired', 'Not Hired', 'Hired', 'Not Hired', 'Hired', 'Not Hired', 'Hired', 'Hired', 'Hired', 'Hired', 'Not Hired', 'Hired', 'Hired', 'Hired', 'Hired', 'Hired', 'Not Hired', 'Hired', 'Not Hired', 'Not Hired', 'Not Hired', 'Not Hired', 'Not Hired', 'Not Hired', 'Not Hired', 'Hired', 'Hired', 'Not Hired', 'Hired', 'Not Hired', 'Not Hired', 'Not Hired', 'Hired', 'Hired', 'Not Hired', 'Not Hired', 'Hired', 'Not Hired', 'Not Hired', 'Hired', 'Not Hired', 'Not Hired', 'Not Hired', 'Hired', 'Not Hired', 'Not Hired', 'Hired', 'Not Hired', 'Not Hired', 'Not Hired', 'Not Hired', 'Hired', 'Hired', 'Not Hired', 'Not Hired', 'Not Hired', 'Not Hired', 'Hired', 'Not Hired', 'Not Hired', 'Not Hired', 'Not Hired', 'Hired', 'Hired', 'Hired', 'Not Hired', 'Not Hired', 'Not Hired', 'Hired', 'Not Hired', 'Not Hired', 'Not Hired', 'Hired', 'Not Hired', 'Not Hired', 'Not Hired', 'Not Hired', 'Not Hired', 'Not Hired', 'Not Hired', 'Not Hired', 'Hired', 'Not Hired', 'Hired', 'Not Hired', 'Not Hired', 'Not Hired', 'Not Hired', 'Not Hired', 'Hired', 'Not Hired', 'Not Hired', 'Not Hired', 'Not Hired', 'Not Hired', 'Hired', 'Not Hired', 'Not Hired', 'Not Hired', 'Not Hired', 'Not Hired', 'Not Hired', 'Not Hired', 'Not Hired', 'Not Hired', 'Not Hired', 'Hired', 'Not Hired', 'Not Hired', 'Hired', 'Not Hired', 'Not Hired', 'Not Hired', 'Not Hired', 'Hired', 'Not Hired', 'Not Hired', 'Hired', 'Hired', 'Hired', 'Hired', 'Not Hired', 'Not Hired', 'Hired', 'Not Hired', 'Not Hired', 'Hired', 'Not Hired', 'Hired', 'Not Hired', 'Not Hired', 'Not Hired', 'Hired', 'Not Hired', 'Hired', 'Not Hired', 'Hired', 'Not Hired', 'Not Hired', 'Not Hired', 'Not Hired', 'Not Hired', 'Not Hired', 'Not Hired', 'Not Hired', 'Hired', 'Not Hired', 'Not Hired', 'Not Hired', 'Not Hired', 'Not Hired', 'Not Hired', 'Not Hired', 'Not Hired', 'Not Hired', 'Hired', 'Not Hired', 'Not Hired', 'Hired', 'Not Hired', 'Not Hired', 'Hired', 'Hired', 'Not Hired', 'Not Hired', 'Hired', 'Hired', 'Not Hired', 'Not Hired', 'Not Hired', 'Not Hired', 'Not Hired', 'Not Hired', 'Hired', 'Not Hired', 'Hired', 'Not Hired', 'Not Hired', 'Not Hired', 'Hired', 'Hired', 'Not Hired', 'Hired', 'Not Hired', 'Hired', 'Not Hired', 'Not Hired', 'Not Hired', 'Not Hired', 'Hired', 'Hired', 'Not Hired', 'Not Hired', 'Not Hired', 'Not Hired', 'Not Hired', 'Not Hired', 'Hired', 'Not Hired', 'Not Hired', 'Not Hired', 'Not Hired', 'Not Hired', 'Not Hired', 'Not Hired', 'Not Hired', 'Not Hired', 'Not Hired', 'Not Hired', 'Not Hired', 'Not Hired', 'Not Hired', 'Not Hired', 'Not Hired', 'Not Hired', 'Not Hired', 'Not Hired', 'Hired', 'Not Hired', 'Hired', 'Not Hired', 'Not Hired', 'Hired', 'Hired', 'Not Hired', 'Not Hired', 'Not Hired', 'Not Hired', 'Hired', 'Not Hired', 'Hired', 'Not Hired', 'Not Hired', 'Not Hired', 'Not Hired', 'Hired', 'Not Hired', 'Not Hired', 'Not Hired', 'Hired', 'Not Hired', 'Hired', 'Not Hired', 'Not Hired', 'Not Hired', 'Hired', 'Not Hired', 'Not Hired', 'Hired', 'Not Hired', 'Not Hired', 'Not Hired', 'Hired', 'Not Hired', 'Not Hired', 'Hired', 'Not Hired', 'Hired', 'Not Hired', 'Not Hired', 'Not Hired', 'Not Hired', 'Not Hired', 'Not Hired', 'Not Hired', 'Not Hired', 'Hired', 'Not Hired', 'Not Hired', 'Not Hired', 'Not Hired', 'Not Hired', 'Not Hired', 'Not Hired', 'Not Hired', 'Not Hired', 'Not Hired', 'Not Hired', 'Not Hired', 'Not Hired', 'Hired', 'Not Hired', 'Not Hired', 'Not Hired', 'Not Hired', 'Hired', 'Not Hired', 'Hired', 'Hired', 'Not Hired', 'Not Hired', 'Hired', 'Hired', 'Not Hired', 'Not Hired', 'Hired', 'Not Hired', 'Not Hired', 'Not Hired', 'Hired', 'Hired', 'Not Hired', 'Not Hired', 'Not Hired', 'Not Hired', 'Not Hired', 'Not Hired', 'Not Hired', 'Hired', 'Not Hired', 'Hired', 'Not Hired', 'Not Hired', 'Not Hired', 'Not Hired', 'Not Hired', 'Not Hired', 'Hired', 'Hired', 'Not Hired', 'Not Hired', 'Not Hired', 'Hired', 'Not Hired', 'Not Hired', 'Not Hired', 'Not Hired', 'Not Hired', 'Not Hired', 'Not Hired', 'Hired', 'Not Hired', 'Hired', 'Not Hired', 'Hired', 'Not Hired', 'Not Hired', 'Not Hired', 'Not Hired', 'Not Hired', 'Hired', 'Not Hired', 'Hired', 'Not Hired', 'Not Hired', 'Not Hired', 'Not Hired', 'Hired', 'Not Hired', 'Not Hired', 'Not Hired', 'Not Hired', 'Not Hired', 'Not Hired', 'Not Hired', 'Not Hired', 'Not Hired', 'Not Hired', 'Hired', 'Not Hired', 'Not Hired', 'Not Hired', 'Not Hired', 'Not Hired', 'Hired', 'Not Hired', 'Not Hired', 'Hired', 'Not Hired', 'Not Hired', 'Not Hired', 'Hired', 'Not Hired', 'Not Hired', 'Not Hired', 'Hired', 'Not Hired', 'Not Hired', 'Not Hired', 'Not Hired', 'Hired', 'Not Hired', 'Not Hired', 'Not Hired', 'Hired', 'Hired', 'Hired', 'Not Hired', 'Not Hired', 'Hired', 'Not Hired', 'Not Hired', 'Not Hired', 'Not Hired', 'Not Hired', 'Hired', 'Not Hired', 'Hired', 'Not Hired', 'Not Hired', 'Not Hired', 'Hired', 'Not Hired', 'Not Hired', 'Not Hired', 'Not Hired', 'Hired', 'Not Hired', 'Not Hired', 'Not Hired', 'Not Hired', 'Not Hired', 'Not Hired', 'Not Hired', 'Hired', 'Not Hired', 'Not Hired', 'Not Hired', 'Not Hired', 'Not Hired', 'Not Hired', 'Hired', 'Not Hired', 'Hired', 'Not Hired', 'Not Hired', 'Not Hired', 'Not Hired', 'Not Hired', 'Hired', 'Not Hired', 'Not Hired', 'Hired', 'Not Hired', 'Hired', 'Not Hired', 'Not Hired', 'Not Hired', 'Not Hired', 'Not Hired', 'Not Hired', 'Not Hired', 'Hired', 'Not Hired', 'Hired', 'Not Hired', 'Not Hired', 'Not Hired', 'Hired', 'Not Hired', 'Not Hired', 'Not Hired', 'Hired', 'Not Hired', 'Not Hired', 'Not Hired', 'Not Hired', 'Not Hired', 'Not Hired', 'Not Hired', 'Not Hired', 'Not Hired', 'Hired', 'Hired', 'Not Hired', 'Hired', 'Not Hired', 'Not Hired', 'Not Hired', 'Not Hired', 'Hired', 'Not Hired', 'Not Hired', 'Hired', 'Hired', 'Not Hired', 'Hired', 'Not Hired', 'Hired', 'Hired', 'Not Hired', 'Not Hired', 'Not Hired', 'Not Hired', 'Hired', 'Hired', 'Hired', 'Not Hired', 'Hired', 'Not Hired', 'Not Hired', 'Not Hired', 'Not Hired', 'Hired', 'Not Hired', 'Not Hired', 'Hired', 'Not Hired', 'Not Hired', 'Not Hired', 'Not Hired', 'Hired', 'Hired', 'Not Hired', 'Not Hired', 'Not Hired', 'Not Hired', 'Hired', 'Hired', 'Not Hired', 'Not Hired', 'Not Hired', 'Not Hired', 'Not Hired', 'Not Hired', 'Not Hired', 'Not Hired', 'Not Hired', 'Hired', 'Not Hired', 'Not Hired', 'Not Hired', 'Not Hired', 'Not Hired', 'Not Hired', 'Not Hired', 'Not Hired', 'Not Hired', 'Hired', 'Hired', 'Not Hired', 'Not Hired', 'Not Hired', 'Not Hired', 'Not Hired', 'Not Hired', 'Not Hired', 'Hired', 'Not Hired', 'Hired', 'Not Hired', 'Hired', 'Not Hired', 'Not Hired', 'Not Hired', 'Hired', 'Not Hired', 'Not Hired', 'Not Hired', 'Not Hired', 'Hired', 'Not Hired', 'Not Hired', 'Hired', 'Not Hired', 'Not Hired', 'Not Hired', 'Not Hired', 'Hired', 'Not Hired', 'Not Hired', 'Not Hired', 'Not Hired', 'Not Hired', 'Hired', 'Not Hired', 'Hired', 'Not Hired', 'Not Hired', 'Not Hired', 'Hired', 'Not Hired', 'Not Hired', 'Not Hired', 'Hired', 'Not Hired', 'Not Hired', 'Not Hired', 'Not Hired', 'Hired', 'Hired', 'Not Hired', 'Not Hired', 'Not Hired', 'Not Hired', 'Hired', 'Not Hired', 'Not Hired', 'Hired', 'Not Hired', 'Not Hired', 'Not Hired', 'Not Hired', 'Not Hired', 'Not Hired', 'Not Hired', 'Not Hired', 'Not Hired', 'Not Hired', 'Not Hired', 'Not Hired', 'Not Hired', 'Not Hired', 'Not Hired', 'Hired', 'Hired', 'Not Hired', 'Hired', 'Not Hired', 'Hired', 'Not Hired', 'Not Hired', 'Not Hired', 'Not Hired', 'Not Hired', 'Not Hired', 'Not Hired', 'Not Hired', 'Hired', 'Not Hired', 'Not Hired', 'Not Hired', 'Not Hired', 'Not Hired', 'Not Hired', 'Not Hired', 'Not Hired', 'Not Hired', 'Not Hired', 'Hired', 'Not Hired', 'Not Hired', 'Not Hired', 'Not Hired', 'Not Hired', 'Not Hired', 'Hired', 'Hired', 'Hired', 'Not Hired', 'Not Hired', 'Hired', 'Not Hired', 'Not Hired', 'Not Hired', 'Not Hired', 'Not Hired', 'Not Hired', 'Hired', 'Not Hired', 'Not Hired', 'Not Hired', 'Not Hired', 'Not Hired', 'Hired', 'Not Hired', 'Hired', 'Not Hired', 'Not Hired', 'Not Hired', 'Not Hired', 'Hired', 'Not Hired', 'Hired', 'Not Hired', 'Not Hired', 'Not Hired', 'Not Hired', 'Not Hired', 'Not Hired', 'Not Hired', 'Hired', 'Not Hired', 'Hired', 'Not Hired', 'Not Hired', 'Not Hired', 'Not Hired', 'Not Hired', 'Not Hired', 'Not Hired', 'Not Hired', 'Not Hired', 'Hired', 'Not Hired', 'Not Hired', 'Not Hired', 'Not Hired', 'Not Hired', 'Not Hired', 'Not Hired', 'Hired', 'Hired', 'Hired', 'Hired', 'Not Hired', 'Not Hired', 'Not Hired', 'Not Hired', 'Not Hired', 'Not Hired', 'Not Hired', 'Not Hired', 'Hired', 'Not Hired', 'Hired', 'Not Hired', 'Hired', 'Not Hired', 'Hired', 'Hired', 'Hired', 'Hired', 'Not Hired', 'Not Hired', 'Not Hired', 'Hired', 'Hired', 'Not Hired', 'Hired', 'Not Hired', 'Not Hired', 'Hired', 'Hired', 'Not Hired', 'Not Hired', 'Not Hired', 'Hired', 'Hired', 'Not Hired', 'Not Hired', 'Hired', 'Not Hired', 'Not Hired', 'Not Hired', 'Not Hired', 'Not Hired', 'Not Hired', 'Not Hired', 'Not Hired', 'Not Hired', 'Not Hired', 'Hired', 'Hired', 'Not Hired', 'Not Hired', 'Not Hired', 'Hired', 'Hired', 'Hired', 'Hired', 'Not Hired', 'Not Hired', 'Not Hired', 'Not Hired', 'Hired', 'Not Hired', 'Not Hired', 'Not Hired', 'Not Hired', 'Not Hired', 'Not Hired', 'Not Hired', 'Not Hired', 'Not Hired', 'Not Hired', 'Not Hired', 'Not Hired', 'Not Hired', 'Hired', 'Not Hired', 'Hired', 'Not Hired', 'Not Hired', 'Not Hired', 'Not Hired', 'Not Hired', 'Not Hired', 'Not Hired', 'Not Hired', 'Hired', 'Not Hired', 'Not Hired', 'Hired', 'Not Hired', 'Not Hired', 'Not Hired', 'Not Hired', 'Not Hired', 'Not Hired', 'Not Hired', 'Not Hired', 'Hired', 'Not Hired', 'Not Hired', 'Not Hired', 'Not Hired', 'Not Hired', 'Not Hired', 'Not Hired', 'Not Hired', 'Not Hired', 'Not Hired', 'Hired', 'Not Hired', 'Not Hired', 'Not Hired', 'Not Hired', 'Not Hired', 'Not Hired', 'Not Hired', 'Hired', 'Hired', 'Not Hired', 'Not Hired', 'Not Hired', 'Not Hired', 'Not Hired', 'Not Hired', 'Not Hired', 'Hired', 'Not Hired', 'Not Hired', 'Not Hired', 'Not Hired', 'Not Hired']\n"
     ]
    }
   ],
   "source": [
    "from sklearn.metrics import accuracy_score, classification_report, confusion_matrix\n",
    "import seaborn as sns\n",
    "import matplotlib.pyplot as plt\n",
    "\n",
    "# Define the label mapping\n",
    "label_mapping = {0: \"Not Hired\", 1: \"Hired\"}\n",
    "\n",
    "# Make predictions on the test set\n",
    "y_pred = model.predict(X_test)\n",
    "\n",
    "\n",
    "# Map predictions and true labels to \"Hired\" and \"Not Hired\"\n",
    "y_test_mapped = [label_mapping[label] for label in y_test]\n",
    "y_pred_mapped = [label_mapping[label] for label in y_pred]\n",
    "\n",
    "print(y_pred_mapped)\n"
   ]
  },
  {
   "cell_type": "markdown",
   "id": "a34ae50a",
   "metadata": {},
   "source": [
    "#  Evaluate the model"
   ]
  },
  {
   "cell_type": "code",
   "execution_count": 88,
   "id": "87db2c1f",
   "metadata": {},
   "outputs": [
    {
     "name": "stdout",
     "output_type": "stream",
     "text": [
      "Accuracy: 0.70\n",
      "\n",
      "Classification Report:\n",
      "              precision    recall  f1-score   support\n",
      "\n",
      "   Not Hired       0.60      0.41      0.49      1231\n",
      "       Hired       0.73      0.85      0.78      2253\n",
      "\n",
      "    accuracy                           0.70      3484\n",
      "   macro avg       0.67      0.63      0.64      3484\n",
      "weighted avg       0.68      0.70      0.68      3484\n",
      "\n"
     ]
    },
    {
     "data": {
      "image/png": "[encoded data removed]",
      "text/plain": [
       "<Figure size 800x600 with 2 Axes>"
      ]
     },
     "metadata": {},
     "output_type": "display_data"
    }
   ],
   "source": [
    "# Calculate accuracy\n",
    "accuracy = accuracy_score(y_test, y_pred)\n",
    "print(f\"Accuracy: {accuracy:.2f}\")\n",
    "\n",
    "# Display classification report\n",
    "print(\"\\nClassification Report:\")\n",
    "print(classification_report(y_test_mapped, y_pred_mapped, target_names=[\"Not Hired\", \"Hired\"]))\n",
    "\n",
    "# Confusion matrix\n",
    "conf_matrix = confusion_matrix(y_test_mapped, y_pred_mapped, labels=[\"Not Hired\", \"Hired\"])\n",
    "\n",
    "# Visualize confusion matrix\n",
    "plt.figure(figsize=(8, 6))\n",
    "sns.heatmap(conf_matrix, annot=True, fmt='d', cmap='Blues', xticklabels=[\"Not Hired\", \"Hired\"], yticklabels=[\"Not Hired\", \"Hired\"])\n",
    "plt.title('Confusion Matrix')\n",
    "plt.xlabel('Predicted')\n",
    "plt.ylabel('Actual')\n",
    "plt.show()"
   ]
  },
  {
   "cell_type": "code",
   "execution_count": null,
   "id": "6fc477df",
   "metadata": {},
   "outputs": [],
   "source": []
  },
  {
   "cell_type": "code",
   "execution_count": null,
   "id": "a8e79b19",
   "metadata": {},
   "outputs": [],
   "source": []
  },
  {
   "cell_type": "code",
   "execution_count": null,
   "id": "6d6307c3",
   "metadata": {},
   "outputs": [],
   "source": []
  },
  {
   "cell_type": "code",
   "execution_count": null,
   "id": "96f3ac4c",
   "metadata": {},
   "outputs": [],
   "source": []
  }
 ],
 "metadata": {
  "kernelspec": {
   "display_name": "Python 3 (ipykernel)",
   "language": "python",
   "name": "python3"
  },
  "language_info": {
   "codemirror_mode": {
    "name": "ipython",
    "version": 3
   },
   "file_extension": ".py",
   "mimetype": "text/x-python",
   "name": "python",
   "nbconvert_exporter": "python",
   "pygments_lexer": "ipython3",
   "version": "3.11.5"
  }
 },
 "nbformat": 4,
 "nbformat_minor": 5
}
